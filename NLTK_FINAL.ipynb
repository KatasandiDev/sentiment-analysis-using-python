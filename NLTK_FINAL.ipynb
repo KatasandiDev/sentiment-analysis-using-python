{
 "cells": [
  {
   "cell_type": "markdown",
   "metadata": {},
   "source": [
    "   # Project \n",
    "   \n",
    "   # <center>Digital Talent Scholarship</center>\n",
    "   \n",
    "   # <center>Artificial Intelligence - Universitas Hasanuddin</center>\n",
    "   \n",
    "   KELAS AI - A\n",
    "   \n",
    "   \n",
    "   Oleh: Agus Arisandi, Aulia Eka Prasiska Wati, Harianto Masdar  "
   ]
  },
  {
   "cell_type": "markdown",
   "metadata": {},
   "source": [
    "# Machine Learning: Natural Language Processing (NLP)\n",
    "\n",
    "Natual Language Processing (NLP) atau pengolahan bahasa alami merupakan salah satu bidang ilmu Artificial Intelligence (Kecerdasan Buatan) yang mempelajari. komunikasi antara manusia dengan komputer melalui bahasa alami. \n",
    "NLP tidak bertujuan untuk mentransformasikan bahasa yang diterima dalam bentuk suara menjadi data digital dan/atau sebaliknya pula; melainkan bertujuan untuk memahami arti dari ucapan yang diberikan dalam bahasa alami dan memberikan respon yang sesuai, misalnya dengan melakukan suatu aksi tertentu atau menampilkan data tertentu.\n"
   ]
  },
  {
   "cell_type": "markdown",
   "metadata": {},
   "source": [
    "Dari beberapa library yang bisa digunakan untuk teknik NLP, pada project ini menggunakan library Natural Language Toolkit (NLTK) dimana NLTK merupakan salah satu tool yang sangat populer pada ilmu Natural Language Processing (NLP) dengan menggunakan bahasa pemrograman Python. Natural Language Toolkit ini sangat mendukung proses pengolahan bahasa natural seperti classification, tokenization, stemming, tagging, parsing dll.\n"
   ]
  },
  {
   "cell_type": "markdown",
   "metadata": {},
   "source": [
    "#  STUDI KASUS \n",
    "Tamu adalah raja. Itulah mengapa pelayanan menjadi kunci utama suksesnya sebuah restoran. Jika masakan enak, tapi pelayanan dari sambutan, pemesanan, penyajian, hingga saat membayar dirasa kurang, orang tak akan kembali. Maka dari itu Pelayanan terbaik,merupakan kunci suksesnya sebuah restoran. \n",
    "\n",
    "Untuk itu pemilik restoran Mbak Aulia selalu meminta pelanggannya untuk memberikan penilaian secara online terhadap masakan dan pengalaman mereka selama Kita memiliki seorang klien pemilik restoran. Pemilik restoran ini selalu meminta pelanggannya untuk memberikan penilaian secara online terhadap masakan dan pengalaman mereka selama bersantap di restorannya. Pemilik restoran tersebut memberikan sekian banyak review (berupa kalimat dalam berbahasa inggris dan berupa skala 0 atau 1, di mana 0 artinya negatif dan 1 artinya positif).\n",
    "\n",
    "Model NLP yang akan digunakan adalah Bag of Words. Model ini digunakan untuk mengekstraksi (extract) fitur dari sebuah teks atau dokumen. Fitur-fitur yang sudah diekstraksi ini bisa digunakan untuk melatih (training) algoritma ML. Hasil akhirnya adalah berupa vocabulary (kata-kata yang unik) yang muncul di semua dokumen/teks di training set. "
   ]
  },
  {
   "cell_type": "markdown",
   "metadata": {},
   "source": [
    "# TENTANG DATASET"
   ]
  },
  {
   "cell_type": "markdown",
   "metadata": {},
   "source": [
    "Dataset ini berisi 1000 komentar dalam bahasa inggris. Project ini bertujuan untuk menganalisis sentimen negatif dan positif, kemudian menilai tingkat akurasi dari metode Random Forest. Dengan demikian, ke depannya jika ada review lagi melalui media sosial, maka otomatis akan bisa terdeteksi apakah ini review positif dan negatif, tanpa harus dibaca secara manual.\n",
    "\n",
    "Sebelum memecahkan persoalan ini melalui bahasa Python, silakan download dulu datasetnya di link ini (https://drive.google.com/file/d/10J7h1smTxfCNTRppW5n8yYerXBNYm-J3/view?usp=sharing)."
   ]
  },
  {
   "cell_type": "markdown",
   "metadata": {},
   "source": [
    "# Library yang dibuthkan\n",
    "\n",
    "Berikut ini merupaka library yang digunakan pada project ini:\n",
    "1. Numpy\n",
    "2. Matplotlib\n",
    "3. Pandas\n",
    "4. re\n",
    "5. Nltk"
   ]
  },
  {
   "cell_type": "markdown",
   "metadata": {},
   "source": [
    "# Maksud dan Tujuan\n",
    "Project ini bertujuan untuk menganalisis sentimen negatif dan positif, kemudian menilai tingkat akurasi dari metode Random Forest."
   ]
  },
  {
   "cell_type": "markdown",
   "metadata": {},
   "source": [
    "# Referensi\n",
    "\n",
    "1. http://www.nltk.org\n",
    "2. https://www.kaggle.com\n",
    "3. https://www.megabagus.id"
   ]
  },
  {
   "cell_type": "code",
   "execution_count": 32,
   "metadata": {},
   "outputs": [],
   "source": [
    "# Mengimpor library yang diperlukan\n",
    "import numpy as np  \n",
    "import matplotlib.pyplot as plt\n",
    "import pandas as pd "
   ]
  },
  {
   "cell_type": "markdown",
   "metadata": {},
   "source": [
    "Mengimpor datasetnya. Kita masih menggunakan perintah pd.read_csv, namun kali ini kita pakai delimiter=’\\t’ agar memisahkan data berdasarkan tab (menggunakan format tsv). Kemudian kita buat parameter quoting=3 agar tidak mengikutkan kuotasi (“”)"
   ]
  },
  {
   "cell_type": "code",
   "execution_count": 33,
   "metadata": {},
   "outputs": [
    {
     "data": {
      "text/html": [
       "<div>\n",
       "<style scoped>\n",
       "    .dataframe tbody tr th:only-of-type {\n",
       "        vertical-align: middle;\n",
       "    }\n",
       "\n",
       "    .dataframe tbody tr th {\n",
       "        vertical-align: top;\n",
       "    }\n",
       "\n",
       "    .dataframe thead th {\n",
       "        text-align: right;\n",
       "    }\n",
       "</style>\n",
       "<table border=\"1\" class=\"dataframe\">\n",
       "  <thead>\n",
       "    <tr style=\"text-align: right;\">\n",
       "      <th></th>\n",
       "      <th>komentar</th>\n",
       "      <th>respon</th>\n",
       "    </tr>\n",
       "  </thead>\n",
       "  <tbody>\n",
       "    <tr>\n",
       "      <th>0</th>\n",
       "      <td>Wow... Loved this place.</td>\n",
       "      <td>1</td>\n",
       "    </tr>\n",
       "    <tr>\n",
       "      <th>1</th>\n",
       "      <td>Crust is not good.</td>\n",
       "      <td>0</td>\n",
       "    </tr>\n",
       "    <tr>\n",
       "      <th>2</th>\n",
       "      <td>Not tasty and the texture was just nasty.</td>\n",
       "      <td>0</td>\n",
       "    </tr>\n",
       "    <tr>\n",
       "      <th>3</th>\n",
       "      <td>Stopped by during the late May bank holiday of...</td>\n",
       "      <td>1</td>\n",
       "    </tr>\n",
       "    <tr>\n",
       "      <th>4</th>\n",
       "      <td>The selection on the menu was great and so wer...</td>\n",
       "      <td>1</td>\n",
       "    </tr>\n",
       "  </tbody>\n",
       "</table>\n",
       "</div>"
      ],
      "text/plain": [
       "                                            komentar  respon\n",
       "0                           Wow... Loved this place.       1\n",
       "1                                 Crust is not good.       0\n",
       "2          Not tasty and the texture was just nasty.       0\n",
       "3  Stopped by during the late May bank holiday of...       1\n",
       "4  The selection on the menu was great and so wer...       1"
      ]
     },
     "execution_count": 33,
     "metadata": {},
     "output_type": "execute_result"
    }
   ],
   "source": [
    "# Mengimpor dataset\n",
    "dataset = pd.read_csv('Review_restoran.tsv', delimiter = '\\t', quoting = 3)\n",
    "dataset.head()"
   ]
  },
  {
   "cell_type": "markdown",
   "metadata": {},
   "source": [
    "Making a new column to detect how long the text messages are:"
   ]
  },
  {
   "cell_type": "code",
   "execution_count": 34,
   "metadata": {},
   "outputs": [
    {
     "data": {
      "text/html": [
       "<div>\n",
       "<style scoped>\n",
       "    .dataframe tbody tr th:only-of-type {\n",
       "        vertical-align: middle;\n",
       "    }\n",
       "\n",
       "    .dataframe tbody tr th {\n",
       "        vertical-align: top;\n",
       "    }\n",
       "\n",
       "    .dataframe thead th {\n",
       "        text-align: right;\n",
       "    }\n",
       "</style>\n",
       "<table border=\"1\" class=\"dataframe\">\n",
       "  <thead>\n",
       "    <tr style=\"text-align: right;\">\n",
       "      <th></th>\n",
       "      <th>komentar</th>\n",
       "      <th>respon</th>\n",
       "      <th>length</th>\n",
       "    </tr>\n",
       "  </thead>\n",
       "  <tbody>\n",
       "    <tr>\n",
       "      <th>0</th>\n",
       "      <td>Wow... Loved this place.</td>\n",
       "      <td>1</td>\n",
       "      <td>24</td>\n",
       "    </tr>\n",
       "    <tr>\n",
       "      <th>1</th>\n",
       "      <td>Crust is not good.</td>\n",
       "      <td>0</td>\n",
       "      <td>18</td>\n",
       "    </tr>\n",
       "    <tr>\n",
       "      <th>2</th>\n",
       "      <td>Not tasty and the texture was just nasty.</td>\n",
       "      <td>0</td>\n",
       "      <td>41</td>\n",
       "    </tr>\n",
       "    <tr>\n",
       "      <th>3</th>\n",
       "      <td>Stopped by during the late May bank holiday of...</td>\n",
       "      <td>1</td>\n",
       "      <td>87</td>\n",
       "    </tr>\n",
       "    <tr>\n",
       "      <th>4</th>\n",
       "      <td>The selection on the menu was great and so wer...</td>\n",
       "      <td>1</td>\n",
       "      <td>59</td>\n",
       "    </tr>\n",
       "  </tbody>\n",
       "</table>\n",
       "</div>"
      ],
      "text/plain": [
       "                                            komentar  respon  length\n",
       "0                           Wow... Loved this place.       1      24\n",
       "1                                 Crust is not good.       0      18\n",
       "2          Not tasty and the texture was just nasty.       0      41\n",
       "3  Stopped by during the late May bank holiday of...       1      87\n",
       "4  The selection on the menu was great and so wer...       1      59"
      ]
     },
     "execution_count": 34,
     "metadata": {},
     "output_type": "execute_result"
    }
   ],
   "source": [
    "dataset['length'] = dataset['komentar'].apply(len)\n",
    "dataset.head()"
   ]
  },
  {
   "cell_type": "code",
   "execution_count": 35,
   "metadata": {},
   "outputs": [
    {
     "data": {
      "text/plain": [
       "<matplotlib.axes._subplots.AxesSubplot at 0x7fac2b999fd0>"
      ]
     },
     "execution_count": 35,
     "metadata": {},
     "output_type": "execute_result"
    },
    {
     "data": {
      "image/png": "[encoded data removed]",
      "text/plain": [
       "<Figure size 432x288 with 1 Axes>"
      ]
     },
     "metadata": {
      "needs_background": "light"
     },
     "output_type": "display_data"
    }
   ],
   "source": [
    "dataset['length'].plot(bins=50, kind='hist')"
   ]
  },
  {
   "cell_type": "code",
   "execution_count": 36,
   "metadata": {},
   "outputs": [
    {
     "data": {
      "text/plain": [
       "count    1000.000000\n",
       "mean       58.315000\n",
       "std        32.360052\n",
       "min        11.000000\n",
       "25%        33.000000\n",
       "50%        51.000000\n",
       "75%        80.000000\n",
       "max       149.000000\n",
       "Name: length, dtype: float64"
      ]
     },
     "execution_count": 36,
     "metadata": {},
     "output_type": "execute_result"
    }
   ],
   "source": [
    "dataset.length.describe() # Mencari komentar yang paling panjang"
   ]
  },
  {
   "cell_type": "markdown",
   "metadata": {},
   "source": [
    "Menggunakan masking untuk menemukan pesan tersebut, dengn perintah sebagia berikut:"
   ]
  },
  {
   "cell_type": "code",
   "execution_count": 37,
   "metadata": {},
   "outputs": [
    {
     "data": {
      "text/plain": [
       "'The problem I have is that they charge $11.99 for a sandwich that is no bigger than a Subway sub (which offers better and more amount of vegetables).'"
      ]
     },
     "execution_count": 37,
     "metadata": {},
     "output_type": "execute_result"
    }
   ],
   "source": [
    "dataset[dataset['length'] == 149]['komentar'].iloc[0]"
   ]
  },
  {
   "cell_type": "code",
   "execution_count": 38,
   "metadata": {},
   "outputs": [
    {
     "data": {
      "text/plain": [
       "array([<matplotlib.axes._subplots.AxesSubplot object at 0x7fac2b9997b8>,\n",
       "       <matplotlib.axes._subplots.AxesSubplot object at 0x7fac2b863358>],\n",
       "      dtype=object)"
      ]
     },
     "execution_count": 38,
     "metadata": {},
     "output_type": "execute_result"
    },
    {
     "data": {
      "image/png": "[encoded data removed]",
      "text/plain": [
       "<Figure size 720x288 with 2 Axes>"
      ]
     },
     "metadata": {
      "needs_background": "light"
     },
     "output_type": "display_data"
    }
   ],
   "source": [
    "dataset.hist(column='length', by='respon', bins=50,figsize=(10,4)) # Menmbedakan komentar negatif dan positif"
   ]
  },
  {
   "cell_type": "code",
   "execution_count": 55,
   "metadata": {},
   "outputs": [],
   "source": [
    "# Melihat item pertama di dataset\n",
    "# melihat kolom ‘komentar’, kemudian diikuti [0] yang artinya melihat item pertama (indeks python dimulai dari nol).\n",
    "dataset['komentar'][0]\n",
    "# Mengimpor library re dan NLTK\n",
    "import re\n",
    "import nltk\n",
    "komentar = re.sub('[^a-zA-Z]', ' ', dataset['komentar'][0])\n",
    "komentar = komentar.lower() # mengolah variabel komentar sehingga semua huruf kapital menjadi huruf kecil\n",
    "komentar = komentar.split() # mengolah variabel komentar sehingga setiap kata terpisah dari kata yang lain"
   ]
  },
  {
   "cell_type": "markdown",
   "metadata": {},
   "source": [
    "Library re yang merupakan regular expression. Info lengkap tentang regular expression bisa diklik di (https://www.regular-expressions.info/python.html). Library ini digunakan untuk melakukan cleaning pada teks\n",
    "\n",
    "Library NLTK. Ini adalah library untuk membersihkan teks (cleaning)."
   ]
  },
  {
   "cell_type": "markdown",
   "metadata": {},
   "source": [
    "Mendefinisikan variabel \"komentar\" dengan menggunakan perintah re dan metode sub (ditulis re.sub).\n",
    "Kita ingin melakukan proses cleaning. Maksudnya adalah kita membuang karakter yang tidak relevan, misalnya titik, articles (a/an/the) dan sebagainya. Sehingga nanti yang tersisa hanya yang relevan saja misalnya kata like yang artinya komentar positif, atau kata angry yang artinya komentar negatif. Selain itu kata yang sama misal loved, love dan loving akan menjadi satu kata saja. Proses cleaning ini disebut dengan stemming."
   ]
  },
  {
   "cell_type": "code",
   "execution_count": 56,
   "metadata": {},
   "outputs": [
    {
     "name": "stderr",
     "output_type": "stream",
     "text": [
      "[nltk_data] Downloading package stopwords to\n",
      "[nltk_data]     /home/namasayapucuk/nltk_data...\n",
      "[nltk_data]   Package stopwords is already up-to-date!\n"
     ]
    }
   ],
   "source": [
    "# Mendownload daftar kata yang ada (vocabulary)\n",
    "# Di dalamnya adalah kata-kata yang dikenal dalam sebuah bahasa. \n",
    "# Intinya kita nanti akan mengeluarkan kata-kata yang termasuk di dalam stopwords\n",
    "nltk.download('stopwords')\n",
    "from nltk.corpus import stopwords #mengaktifkan stopwords yang sudah didownload "
   ]
  },
  {
   "cell_type": "code",
   "execution_count": 57,
   "metadata": {},
   "outputs": [],
   "source": [
    "# Memeriksa daftar kata di stopwords\n",
    "inggris = stopwords.words('english')"
   ]
  },
  {
   "cell_type": "markdown",
   "metadata": {},
   "source": [
    "Perintah diatas merupakan perintah untuk mendefinisikan variabel inggris untuk melihat vocabulary yang sudah ada di nltk. Kurang lebih ada 179 kosakata yang ada. Di dalamnya termasuk artikel seperti ‘a’, ‘an’, dan ‘the’, termasuk juga determiner seperti ‘this’, ‘that’ dan lain-lain"
   ]
  },
  {
   "cell_type": "code",
   "execution_count": 58,
   "metadata": {},
   "outputs": [],
   "source": [
    "# Menghilangkan kata yang tidak ada di stopwords\n",
    "# Maksudnya adalah Kita akan meng-exclude (mengeluarkan) kata-kata yang termasuk di dalam stopwords\n",
    "komentar = [word for word in komentar if not word in inggris]"
   ]
  },
  {
   "cell_type": "code",
   "execution_count": 59,
   "metadata": {},
   "outputs": [],
   "source": [
    "# Melakukan proses stemming (penggunaan kata dasar)\n",
    "from nltk.stem.porter import PorterStemmer # Mengimpor PorterStemmer untuk melakukan proses stemming\n",
    "ps = PorterStemmer() # Mendefinisikan variabel ps untuk mengaktifkan PorterStemmer yang sudah diimpor."
   ]
  },
  {
   "cell_type": "markdown",
   "metadata": {},
   "source": [
    "PorterStemmer adalah proses untuk kata dasar berbahasa inggris"
   ]
  },
  {
   "cell_type": "code",
   "execution_count": 44,
   "metadata": {},
   "outputs": [],
   "source": [
    "# Membersihkan kalimat dari kata yang ada di stopwords\n",
    "komentar = [ps.stem(word) for word in komentar if not word in inggris]\n",
    "komentar = ' '.join(komentar)"
   ]
  },
  {
   "cell_type": "code",
   "execution_count": 45,
   "metadata": {},
   "outputs": [
    {
     "name": "stderr",
     "output_type": "stream",
     "text": [
      "[nltk_data] Downloading package stopwords to\n",
      "[nltk_data]     /home/namasayapucuk/nltk_data...\n",
      "[nltk_data]   Package stopwords is already up-to-date!\n"
     ]
    }
   ],
   "source": [
    "# Melakukan proses cleaning pada teks\n",
    "import re\n",
    "import nltk\n",
    "nltk.download('stopwords')\n",
    "from nltk.corpus import stopwords\n",
    "from nltk.stem.porter import PorterStemmer\n",
    "corpus = []\n",
    "for i in range(0, len(dataset)):\n",
    "    komentar = re.sub('[^a-zA-Z]', ' ', dataset['komentar'][i])\n",
    "    komentar = komentar.lower()\n",
    "    komentar = komentar.split()\n",
    "    ps = PorterStemmer()\n",
    "    komentar = [ps.stem(word) for word in komentar if not word in inggris]\n",
    "    komentar = ' '.join(komentar)\n",
    "    corpus.append(komentar)"
   ]
  },
  {
   "cell_type": "markdown",
   "metadata": {},
   "source": [
    "Perintah di atas mengulangi perintah-perintah sebelumnya. Namun kali ini tidak melakukan hanya untuk 1 item saja, melainkan semua item yang ada di dataset.\n",
    "\n",
    "perintah \"corpus [    ]\" mendefinisikan sebuah list kosong bernama corpus. Corpus ini akan berisikan semua item yang terdeteksi oleh NLTK yang sudha melalui seleksi stopwords dan stemming \n",
    "\n",
    "perintah \"corpus.append(komentar)\" untuk memasukkan setiap item yang melewati seleksi stopwords dan stemming ke dalam list corpus. Caranya adalah dengan metode append."
   ]
  },
  {
   "cell_type": "code",
   "execution_count": 46,
   "metadata": {},
   "outputs": [],
   "source": [
    "# Membuat model Bag of Words\n",
    "#  mengimpor CountVectorizer dari sklearn.feature_extraction.text untuk membuat model bag of words.\n",
    "from sklearn.feature_extraction.text import CountVectorizer \n",
    "cv = CountVectorizer() \n",
    "X = cv.fit_transform(corpus).toarray()\n",
    "y = dataset.iloc[:, 1].values"
   ]
  },
  {
   "cell_type": "markdown",
   "metadata": {},
   "source": [
    "Mendefinisikan variabel cv untuk mengaktifkan CountVectorizer\n",
    "\n",
    "Mendefinisikan variabel independen X kita dengan melakukan proses cv dan fit_transform variabel corpus yang sudah kita buat. Metode .toarray() adalah untuk menjadikan variabel X yang sebelumnya adalah matriks dari corpus menjadi sebuah array.\n",
    "\n",
    "Mendefinisikan variabel dependen, dengan memilih semua baris dan hanya kolom kedua saja (apakah ia masuk ke komentar positif atau negatif)."
   ]
  },
  {
   "cell_type": "code",
   "execution_count": 47,
   "metadata": {},
   "outputs": [],
   "source": [
    "# Membagi dataset ke dalam Training dan Test set\n",
    "from sklearn.model_selection import train_test_split\n",
    "X_train, X_test, y_train, y_test = train_test_split(X, y, test_size = 0.20, random_state = 0)"
   ]
  },
  {
   "cell_type": "code",
   "execution_count": 48,
   "metadata": {},
   "outputs": [
    {
     "data": {
      "text/plain": [
       "RandomForestClassifier(bootstrap=True, class_weight=None, criterion='entropy',\n",
       "            max_depth=None, max_features='auto', max_leaf_nodes=None,\n",
       "            min_impurity_decrease=0.0, min_impurity_split=None,\n",
       "            min_samples_leaf=1, min_samples_split=2,\n",
       "            min_weight_fraction_leaf=0.0, n_estimators=500, n_jobs=None,\n",
       "            oob_score=False, random_state=0, verbose=0, warm_start=False)"
      ]
     },
     "execution_count": 48,
     "metadata": {},
     "output_type": "execute_result"
    }
   ],
   "source": [
    "# Mengkasifikasikan data Menggunakan Metode Random Forest\n",
    "from sklearn.ensemble import RandomForestClassifier\n",
    "classifierRF = RandomForestClassifier(n_estimators = 500, criterion = 'entropy', random_state = 0)\n",
    "classifierRF.fit(X_train, y_train)"
   ]
  },
  {
   "cell_type": "markdown",
   "metadata": {},
   "source": [
    "Pemodelan ini bertujuan untuk memprediksi nilai y_test dengan menggunakan X_test. Hasil prediksi tersesebut sebut bernama y_pred. Nantinya y_pred akan dibandingkan dengan y_test yang sesungguhnya. Jika sangat mirip, maka ditunjukkan dengan nilai akurasi tinggi. Sebaliknya jika tidak mirip, akurasinya rendah."
   ]
  },
  {
   "cell_type": "code",
   "execution_count": 49,
   "metadata": {},
   "outputs": [],
   "source": [
    "# Memprediksi hasil Test Set dengan Random Forest\n",
    "y_pred_RF = classifierRF.predict(X_test)"
   ]
  },
  {
   "cell_type": "code",
   "execution_count": 50,
   "metadata": {},
   "outputs": [],
   "source": [
    "# Membuat Confusion Matrix\n",
    "from sklearn.metrics import confusion_matrix\n",
    "cm_RF = confusion_matrix(y_test, y_pred_RF)"
   ]
  },
  {
   "cell_type": "markdown",
   "metadata": {},
   "source": [
    "Confusion matrix adalah suatu metode yang biasanya digunakan untuk melakukan perhitungan akurasi pada konsep data mining atau Sistem Pendukung Keputusan. Pada pengukuran kinerja menggunakan confusion matrix, terdapat 4 (empat) istilah sebagai representasi hasil proses klasifikasi. Keempat istilah tersebut adalah True Positive (TP), True Negative (TN), False Positive (FP) dan False Negative (FN). Nilai True Negative (TN) merupakan jumlah data negatif yang terdeteksi dengan benar, sedangkan False Positive (FP) merupakan data negatif namun terdeteksi sebagai data positif. Sementara itu, True Positive (TP) merupakan data positif yang terdeteksi benar. False Negative (FN) merupakan kebalikan dari True Positive, sehingga data posifit, namun terdeteksi sebagai data negatif\n",
    "\n",
    "Sumber: http://www.kuliahkomputer.com/2018/07/pengujian-dengan-confusion-matrix.html"
   ]
  },
  {
   "cell_type": "code",
   "execution_count": 51,
   "metadata": {},
   "outputs": [
    {
     "data": {
      "text/plain": [
       "array([[87, 10],\n",
       "       [46, 57]])"
      ]
     },
     "execution_count": 51,
     "metadata": {},
     "output_type": "execute_result"
    }
   ],
   "source": [
    "cm_RF"
   ]
  },
  {
   "cell_type": "code",
   "execution_count": 52,
   "metadata": {},
   "outputs": [],
   "source": [
    "# Menilai akurasi metode Random Forest\n",
    "akurasi_RF = ((cm_RF[0][0]+cm_RF[1][1])/(cm_RF[0][0]+cm_RF[1][1]+cm_RF[0][1]+cm_RF[1][0]))*100"
   ]
  },
  {
   "cell_type": "code",
   "execution_count": 53,
   "metadata": {},
   "outputs": [
    {
     "data": {
      "text/plain": [
       "72.0"
      ]
     },
     "execution_count": 53,
     "metadata": {},
     "output_type": "execute_result"
    }
   ],
   "source": [
    "akurasi_RF"
   ]
  },
  {
   "cell_type": "markdown",
   "metadata": {},
   "source": [
    "# Dokumentasi Error"
   ]
  },
  {
   "cell_type": "markdown",
   "metadata": {},
   "source": [
    "Untuk melihat dokementasi errornya silahkan klik link dibawah ini:\n",
    "https://drive.google.com/file/d/0B5ORSJLZb3x-Q0pSd0ZkRmZkUmFhZ2JzVXkwZGxyREJ4eEd3/view?usp=sharing"
   ]
  }
 ],
 "metadata": {
  "kernelspec": {
   "display_name": "Python 3",
   "language": "python",
   "name": "python3"
  },
  "language_info": {
   "codemirror_mode": {
    "name": "ipython",
    "version": 3
   },
   "file_extension": ".py",
   "mimetype": "text/x-python",
   "name": "python",
   "nbconvert_exporter": "python",
   "pygments_lexer": "ipython3",
   "version": "3.7.3"
  }
 },
 "nbformat": 4,
 "nbformat_minor": 2
}
